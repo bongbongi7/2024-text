{
  "nbformat": 4,
  "nbformat_minor": 0,
  "metadata": {
    "colab": {
      "provenance": [],
      "mount_file_id": "1yVhhLCxypeCVP0CXWIJLmeZi-CNCiY3I",
      "authorship_tag": "ABX9TyO47ocpT+phKAvmDplpDxXU",
      "include_colab_link": true
    },
    "kernelspec": {
      "name": "python3",
      "display_name": "Python 3"
    },
    "language_info": {
      "name": "python"
    }
  },
  "cells": [
    {
      "cell_type": "markdown",
      "metadata": {
        "id": "view-in-github",
        "colab_type": "text"
      },
      "source": [
        "<a href=\"https://colab.research.google.com/github/bongbongi7/2024-text/blob/main/%EC%A7%80%EC%A7%84_%EB%B6%84%EC%84%9D.ipynb\" target=\"_parent\"><img src=\"https://colab.research.google.com/assets/colab-badge.svg\" alt=\"Open In Colab\"/></a>"
      ]
    },
    {
      "cell_type": "code",
      "execution_count": null,
      "metadata": {
        "colab": {
          "base_uri": "https://localhost:8080/"
        },
        "id": "bnmTVGOoouqM",
        "outputId": "d496968c-132d-4c11-e2c9-53554db62027"
      },
      "outputs": [
        {
          "output_type": "stream",
          "name": "stdout",
          "text": [
            "['시간', '규모', '진앙(km)', '위도', '경도', '위치', '행정구역1', '행정구역2']\n",
            "['2016-06-03', '3', '10', '36.39', '127.92', '경북 상주시 서쪽 22km 지역', '경북', '상주시']\n",
            "['2016-06-05', '2.2', '17', '36', '129.58', '경북 포항시 남구 동쪽 20km 해역', '경북', '포항시']\n",
            "['2016-06-07', '2.3', '12', '33.05', '126.17', '제주 제주시 고산 남쪽 27km 해역', '제주', '제주시']\n",
            "['2016-06-13', '2.7', '8', '34.3', '124.68', '전남 신안군 흑산면 서남서쪽 82km 해역', '전남', '신안군']\n",
            "['2016-06-15', '2.6', '20', '35.87', '129.69', '경북 포항시 남구 동남동쪽 33km 해역', '경북', '포항시']\n",
            "['2016-06-21', '3.1', '0', '39.49', '126.19', '북한 평안남도 성천군 북쪽 28km 지역', '북한', '평안남']\n",
            "['2016-06-25', '2.6', '1', '38.74', '125.86', '북한 황해북도 송림시 20km 지역', '북한', '황해북']\n",
            "['2016-07-05', '5', '19', '35.51', '129.99', '울산 동구 동쪽 52km 해역', '울산', '동구 ']\n",
            "['2016-07-05', '2.6', '24', '35.51', '129.87', '울산 동구 동쪽 41km 해역', '울산', '동구 ']\n",
            "['2016-07-09', '2.3', '18', '35.48', '129.97', '울산 동구 동쪽 50km 해역', '울산', '동구 ']\n",
            "['2016-07-09', '2.6', '0', '38.69', '125.83', '북한 황해북도 송림시 동남동쪽 18km 지역', '북한', '황해북']\n",
            "['2016-07-13', '2', '9', '36.8', '128.53', '경북 영주시 서쪽 9km 지역', '경북', '영주시']\n",
            "['2016-07-14', '2.8', '12', '35.12', '130.24', '울산 동구 동남동쪽 86km 해역', '울산', '동구 ']\n",
            "['2016-07-30', '2.3', '13', '33.06', '126.33', '제주 서귀포시 남서쪽 27km 해역', '제주', '서귀포']\n",
            "['2016-08-16', '2.4', '14', '36.75', '128.84', '경북 안동시 북북동쪽 22km 지역', '경북', '안동시']\n",
            "['2016-08-17', '2.9', '0', '38.35', '128.09', '북한 강원도 양구군 북북동쪽 28km 지역', '북한', '강원도']\n",
            "['2016-08-18', '2.1', '0', '37.18', '125.46', '인천 옹진군 연평도 남남서쪽 58km 해역', '인천', '옹진군']\n",
            "['2016-08-18', '2.6', '5', '38.84', '125.7', '북한 황해북도 송림시 북북동쪽 13km 지역', '북한', '황해북']\n",
            "['2016-08-20', '3', '7', '38.38', '128.09', '북한 강원도 양구군 북북동쪽 32km 지역', '북한', '강원도']\n",
            "['2016-08-20', '2.9', '18', '33.48', '127.31', '제주 서귀포시 성산 동북동쪽 41km 해역', '제주', '서귀포']\n",
            "['2016-08-28', '2.4', '14', '38.65', '127.16', '북한 강원도 평강 북북서쪽 29km 지역', '북한', '강원도']\n",
            "['2016-08-28', '2.1', '7', '35.65', '127.48', '전북 장수군 서쪽 4km 지역', '전북', '장수군']\n",
            "['2016-08-30', '2.6', '18', '35.55', '128.03', '경남 합천군 서쪽 13km 지역', '경남', '합천군']\n",
            "['2016-09-12', '5.1', '15', '35.77', '129.19', '경북 경주시 남남서쪽 8.2km 지역', '경북', '경주시']\n",
            "['2018-01-01', '1.4', '13', '36.21', '128.31', '경북 구미시 북북서쪽 11km 지역', '경북', '구미시']\n",
            "['2018-01-02', '1.8', '8', '36.11', '129.36', '경북 포항시 북구 북쪽 8km 지역', '경북', '포항시']\n",
            "['2018-01-02', '1.3', '12', '35.77', '129.2', '경북 경주시 남쪽 8km 지역', '경북', '경주시']\n",
            "['2018-01-02', '1.7', '6', '36.13', '129.37', '경북 포항시 북구 북쪽 10km 지역', '경북', '포항시']\n",
            "['2018-01-03', '1.5', '8', '35.15', '128.58', '경남 창원시 마산합포구 남남동쪽 5km 지역', '경남', '창원시']\n",
            "['2018-01-03', '1', '5', '36.1', '129.32', '경북 포항시 북구 북북서쪽 8km 지역', '경북', '포항시']\n",
            "['2018-01-03', '1.8', '15', '35.77', '129.17', '경북 경주시 남남서쪽 9km 지역', '경북', '경주시']\n",
            "['2018-01-04', '1.7', '8', '36.1', '129.37', '경북 포항시 북구 북쪽 6km 지역', '경북', '포항시']\n",
            "['2018-01-05', '1.5', '15', '35.76', '129.19', '경북 경주시 남남서쪽 9km 지역', '경북', '경주시']\n",
            "['2018-01-05', '1.4', '6', '36.15', '129.38', '경북 포항시 북구 북쪽 12km 지역', '경북', '포항시']\n",
            "['2018-01-06', '1.5', '9', '36.12', '129.35', '경북 포항시 북구 북쪽 9km 지역', '경북', '포항시']\n",
            "['2018-01-06', '1.4', '10', '37.93', '128.01', '강원 홍천군 북북동쪽 28km 지역', '강원', '홍천군']\n",
            "['2018-01-07', '0.9', '17', '35.77', '129.2', '경북 경주시 남쪽 8km 지역', '경북', '경주시']\n",
            "['2018-01-07', '1.9', '19', '33.83', '127.27', '전남 여수시 거문도 남쪽 22km 해역', '전남', '여수시']\n",
            "['2018-01-07', '1.2', '16', '36.33', '128.18', '경북 상주시 남남동쪽 9km 지역', '경북', '상주시']\n",
            "['2018-01-08', '1.9', '0', '38.7', '125.64', '북한 황해북도 송림 남쪽 41km 지역', '북한', '황해북']\n",
            "['2018-01-08', '1.1', '10', '37.92', '128.01', '강원 홍천군 북북동쪽 27km 지역', '강원', '홍천군']\n",
            "['2018-01-09', '1.7', '19', '35.89', '129.59', '경북 포항시 남구 동남동쪽 24km 해역', '경북', '포항시']\n",
            "['2018-01-09', '1.3', '7', '36.15', '129.37', '경북 포항시 북구 북쪽 12km 지역', '경북', '포항시']\n",
            "['2018-01-09', '1.3', '12', '36.34', '127.84', '충북 옥천군 동쪽 24km 지역', '충북', '옥천군']\n",
            "['2018-01-09', '1.1', '8', '36.1', '129.34', '경북 포항시 북구 북북서쪽 7km 지역', '경북', '포항시']\n",
            "['2018-01-10', '1.8', '5', '36.15', '129.39', '경북 포항시 북구 북쪽 12km 지역', '경북', '포항시']\n",
            "['2018-01-10', '1.8', '8', '36.08', '129.33', '경북 포항시 북구 북서쪽 5km 지역', '경북', '포항시']\n",
            "['2018-01-10', '1.7', '9', '36.08', '129.34', '경북 포항시 북구 북북서쪽 5km 지역', '경북', '포항시']\n",
            "['2024-06-08', '2.2', '15', '38.87', '129.18', '북한 강원 회양 동쪽 138km 해역', '북한', '강원 ']\n",
            "['2024-06-09', '2.1', '7', '33.4', '125.1', '제주 제주시 서쪽 133km 해역', '제주', '제주시']\n",
            "['2024-06-12', '4.8', '8', '35.7', '126.72', '전북 부안군 남남서쪽 4km 지역', '전북', '부안군']\n",
            "['2024-06-12', '3.1', '8', '35.7', '126.73', '전북 부안군 남쪽 4km 지역', '전북', '부안군']\n"
          ]
        }
      ],
      "source": [
        "import csv\n",
        "f=open('earthquake.csv', encoding='cp949')\n",
        "data=csv.reader(f)\n",
        "for row in data:\n",
        "  print(row)"
      ]
    },
    {
      "cell_type": "code",
      "source": [
        "!sudo apt-get install -y fonts-nanum\n",
        "!sudo fc-cache -fv\n",
        "!rm ~/.cache/matplotlib -rf"
      ],
      "metadata": {
        "colab": {
          "base_uri": "https://localhost:8080/"
        },
        "id": "MAf_sCeTpo8n",
        "outputId": "c8c1e281-ac8f-4b0c-f87b-7a58455080e9"
      },
      "execution_count": null,
      "outputs": [
        {
          "output_type": "stream",
          "name": "stdout",
          "text": [
            "Reading package lists... Done\n",
            "Building dependency tree... Done\n",
            "Reading state information... Done\n",
            "The following NEW packages will be installed:\n",
            "  fonts-nanum\n",
            "0 upgraded, 1 newly installed, 0 to remove and 45 not upgraded.\n",
            "Need to get 10.3 MB of archives.\n",
            "After this operation, 34.1 MB of additional disk space will be used.\n",
            "Get:1 http://archive.ubuntu.com/ubuntu jammy/universe amd64 fonts-nanum all 20200506-1 [10.3 MB]\n",
            "Fetched 10.3 MB in 1s (7,192 kB/s)\n",
            "debconf: unable to initialize frontend: Dialog\n",
            "debconf: (No usable dialog-like program is installed, so the dialog based frontend cannot be used. at /usr/share/perl5/Debconf/FrontEnd/Dialog.pm line 78, <> line 1.)\n",
            "debconf: falling back to frontend: Readline\n",
            "debconf: unable to initialize frontend: Readline\n",
            "debconf: (This frontend requires a controlling tty.)\n",
            "debconf: falling back to frontend: Teletype\n",
            "dpkg-preconfigure: unable to re-open stdin: \n",
            "Selecting previously unselected package fonts-nanum.\n",
            "(Reading database ... 121913 files and directories currently installed.)\n",
            "Preparing to unpack .../fonts-nanum_20200506-1_all.deb ...\n",
            "Unpacking fonts-nanum (20200506-1) ...\n",
            "Setting up fonts-nanum (20200506-1) ...\n",
            "Processing triggers for fontconfig (2.13.1-4.2ubuntu5) ...\n",
            "/usr/share/fonts: caching, new cache contents: 0 fonts, 1 dirs\n",
            "/usr/share/fonts/truetype: caching, new cache contents: 0 fonts, 3 dirs\n",
            "/usr/share/fonts/truetype/humor-sans: caching, new cache contents: 1 fonts, 0 dirs\n",
            "/usr/share/fonts/truetype/liberation: caching, new cache contents: 16 fonts, 0 dirs\n",
            "/usr/share/fonts/truetype/nanum: caching, new cache contents: 12 fonts, 0 dirs\n",
            "/usr/local/share/fonts: caching, new cache contents: 0 fonts, 0 dirs\n",
            "/root/.local/share/fonts: skipping, no such directory\n",
            "/root/.fonts: skipping, no such directory\n",
            "/usr/share/fonts/truetype: skipping, looped directory detected\n",
            "/usr/share/fonts/truetype/humor-sans: skipping, looped directory detected\n",
            "/usr/share/fonts/truetype/liberation: skipping, looped directory detected\n",
            "/usr/share/fonts/truetype/nanum: skipping, looped directory detected\n",
            "/var/cache/fontconfig: cleaning cache directory\n",
            "/root/.cache/fontconfig: not cleaning non-existent cache directory\n",
            "/root/.fontconfig: not cleaning non-existent cache directory\n",
            "fc-cache: succeeded\n"
          ]
        }
      ]
    },
    {
      "cell_type": "code",
      "source": [
        "# 라이브러리 불러오기\n",
        "import pandas as pd\n",
        "import numpy as np\n",
        "import matplotlib.pyplot as plt"
      ],
      "metadata": {
        "id": "_AvTnARcpFFI"
      },
      "execution_count": null,
      "outputs": []
    },
    {
      "cell_type": "code",
      "source": [
        "import pandas as pd\n",
        "import matplotlib.pyplot as plt\n",
        "import seaborn as sns\n",
        "\n",
        "\n",
        "earth = pd.read_csv('earthquake.csv', encoding='cp949')\n",
        "\n",
        "\n",
        "earth['시간'] = pd.to_datetime(earth['시간'])\n",
        "\n",
        "def display_earthquake_data(threshold):\n",
        "\n",
        "    filtered_earth = earth[earth['규모'] > threshold]\n",
        "\n",
        "\n",
        "    print(f\"지진의 강도 사례(Magnitude > {threshold}):\")\n",
        "    print(filtered_earth)\n",
        "\n",
        "\n",
        "    print(f\"\\n지진의 규모(강도): {threshold}: {filtered_earth.shape[0]}\")\n",
        "    print(f\"Average depth: {filtered_earth['진앙(km)'].mean():.2f} km\")\n",
        "\n",
        "    plt.figure(figsize=(10, 6))\n",
        "    sns.scatterplot(x='진앙(km)', y='규모', data=filtered_earth, hue='규모', palette='viridis')\n",
        "    plt.title(f'(Magnitude > {threshold})')\n",
        "    plt.xlabel('Depth (km)')\n",
        "    plt.ylabel('Magnitude')\n",
        "    plt.legend(title='Magnitude')\n",
        "    plt.show()\n",
        "\n",
        "def main():\n",
        "    # Prompt user to enter a magnitude threshold\n",
        "    try:\n",
        "        threshold = float(input(\"지진의 규모(강도)를 입력하세요. \"))\n",
        "        display_earthquake_data(threshold)\n",
        "    except ValueError:\n",
        "        print(\"지진의 강도는 8이하로만 설정됩니다..\")\n",
        "\n",
        "if __name__ == \"__main__\":\n",
        "    main()"
      ],
      "metadata": {
        "colab": {
          "base_uri": "https://localhost:8080/",
          "height": 764
        },
        "id": "Q5t-l4gixzcO",
        "outputId": "e039a22f-08cb-4aee-affd-e49c03942c4d"
      },
      "execution_count": null,
      "outputs": [
        {
          "output_type": "stream",
          "name": "stdout",
          "text": [
            "지진의 규모(강도)를 입력하세요. 3\n",
            "지진의 강도 사례(Magnitude > 3.0):\n",
            "           시간   규모  진앙(km)     위도      경도                      위치\n",
            "5  2016-06-21  3.1       0  39.49  126.19  북한 평안남도 성천군 북쪽 28km 지역\n",
            "7  2016-07-05  5.0      19  35.51  129.99        울산 동구 동쪽 52km 해역\n",
            "23 2016-09-12  5.1      15  35.77  129.19    경북 경주시 남남서쪽 8.2km 지역\n",
            "50 2024-06-12  4.8       8  35.70  126.72      전북 부안군 남남서쪽 4km 지역\n",
            "51 2024-06-12  3.1       8  35.70  126.73        전북 부안군 남쪽 4km 지역\n",
            "\n",
            "지진의 규모(강도): 3.0: 5\n",
            "Average depth: 10.00 km\n"
          ]
        },
        {
          "output_type": "display_data",
          "data": {
            "text/plain": [
              "<Figure size 1000x600 with 1 Axes>"
            ],
            "image/png": "[encoded data removed]"
          },
          "metadata": {}
        }
      ]
    },
    {
      "cell_type": "markdown",
      "source": [],
      "metadata": {
        "id": "GRpfWQH-nn3O"
      }
    },
    {
      "cell_type": "code",
      "source": [],
      "metadata": {
        "id": "GTIjp3RxgMNq"
      },
      "execution_count": null,
      "outputs": []
    },
    {
      "cell_type": "code",
      "source": [],
      "metadata": {
        "id": "eP2rwu8Umpk_"
      },
      "execution_count": null,
      "outputs": []
    }
  ]
}